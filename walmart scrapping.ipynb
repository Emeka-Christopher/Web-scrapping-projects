{
 "cells": [
  {
   "cell_type": "code",
   "execution_count": 1,
   "id": "ca469776",
   "metadata": {},
   "outputs": [],
   "source": [
    "#pip install selenium"
   ]
  },
  {
   "cell_type": "code",
   "execution_count": 11,
   "id": "4bfc4fbb",
   "metadata": {
    "scrolled": true
   },
   "outputs": [],
   "source": [
    "# import libraries \n",
    "\n",
    "from bs4 import BeautifulSoup\n",
    "from selenium import webdriver"
   ]
  },
  {
   "cell_type": "code",
   "execution_count": 12,
   "id": "64076b85",
   "metadata": {},
   "outputs": [],
   "source": [
    "driver = webdriver.Chrome()"
   ]
  },
  {
   "cell_type": "code",
   "execution_count": 13,
   "id": "914930d4",
   "metadata": {},
   "outputs": [],
   "source": [
    "url = \"https://www.walmart.ca/search/pantry%20food/N-117/page-1\"\n",
    "driver.get(url)"
   ]
  },
  {
   "cell_type": "code",
   "execution_count": 14,
   "id": "c45c7449",
   "metadata": {},
   "outputs": [],
   "source": [
    "soup = BeautifulSoup(driver.page_source, 'html.parser')"
   ]
  },
  {
   "cell_type": "code",
   "execution_count": 15,
   "id": "0ff94693",
   "metadata": {},
   "outputs": [],
   "source": [
    "results = soup.find_all('div', {'data-automation' : 'grocery-product'})"
   ]
  },
  {
   "cell_type": "code",
   "execution_count": 16,
   "id": "33e2e3fc",
   "metadata": {},
   "outputs": [
    {
     "data": {
      "text/plain": [
       "60"
      ]
     },
     "execution_count": 16,
     "metadata": {},
     "output_type": "execute_result"
    }
   ],
   "source": [
    "len(results)"
   ]
  },
  {
   "cell_type": "code",
   "execution_count": 36,
   "id": "e553497d",
   "metadata": {},
   "outputs": [],
   "source": [
    "item = results[0]"
   ]
  },
  {
   "cell_type": "code",
   "execution_count": 48,
   "id": "e3b5c3b8",
   "metadata": {},
   "outputs": [],
   "source": [
    "description = item.find('class', {'data-automation', 'description'})"
   ]
  },
  {
   "cell_type": "code",
   "execution_count": 49,
   "id": "c1db797b",
   "metadata": {},
   "outputs": [
    {
     "name": "stdout",
     "output_type": "stream",
     "text": [
      "None\n"
     ]
    }
   ],
   "source": [
    "print(description)"
   ]
  },
  {
   "cell_type": "code",
   "execution_count": 92,
   "id": "d9de626b",
   "metadata": {},
   "outputs": [
    {
     "data": {
      "text/plain": [
       "'Grace Kennedy Corn Meal'"
      ]
     },
     "execution_count": 92,
     "metadata": {},
     "output_type": "execute_result"
    }
   ],
   "source": [
    "name = item.p.text\n",
    "name"
   ]
  },
  {
   "cell_type": "code",
   "execution_count": 93,
   "id": "e029435e",
   "metadata": {},
   "outputs": [
    {
     "data": {
      "text/plain": [
       "'$3.77'"
      ]
     },
     "execution_count": 93,
     "metadata": {},
     "output_type": "execute_result"
    }
   ],
   "source": [
    "current_price = item.a.span.text\n",
    "current_price"
   ]
  },
  {
   "cell_type": "code",
   "execution_count": 94,
   "id": "9f13f5fc",
   "metadata": {},
   "outputs": [
    {
     "name": "stdout",
     "output_type": "stream",
     "text": [
      "None\n"
     ]
    }
   ],
   "source": [
    "unit_price = item.find('span', 'price-per-unit')\n",
    "print(unit_price)"
   ]
  },
  {
   "cell_type": "code",
   "execution_count": 91,
   "id": "c2b622e5",
   "metadata": {},
   "outputs": [
    {
     "data": {
      "text/plain": [
       "'2 kg'"
      ]
     },
     "execution_count": 91,
     "metadata": {},
     "output_type": "execute_result"
    }
   ],
   "source": [
    "description = item.find('p','css-1m0dajq eudvd6x0').text\n",
    "description"
   ]
  },
  {
   "cell_type": "code",
   "execution_count": 97,
   "id": "539d0415",
   "metadata": {},
   "outputs": [],
   "source": [
    "def extract_records(item):\n",
    "    #name\n",
    "    name = item.p.text\n",
    "    \n",
    "    #current price\n",
    "    try:\n",
    "        current_price = item.a.span.text\n",
    "    except AttributeError:\n",
    "        current_price =''\n",
    "    #unit_price\n",
    "    try:\n",
    "        unit_price = item.find('span', 'price-per-unit').text\n",
    "    except AttributeError:\n",
    "        return\n",
    "    #description\n",
    "    try:\n",
    "        description = item.find('p','css-1m0dajq eudvd6x0').text\n",
    "    except AttributeError:\n",
    "        description =''\n",
    "    result = (name, current_price, unit_price, description)\n",
    "    \n",
    "    return result\n",
    "    "
   ]
  },
  {
   "cell_type": "code",
   "execution_count": 98,
   "id": "52258108",
   "metadata": {},
   "outputs": [],
   "source": [
    "records = []\n",
    "results = soup.find_all('div', {'data-automation' : 'grocery-product'})\n",
    "\n",
    "for item in results:\n",
    "    records.append(extract_records(item))"
   ]
  },
  {
   "cell_type": "code",
   "execution_count": 102,
   "id": "31b7bac6",
   "metadata": {},
   "outputs": [],
   "source": [
    "import pandas as pd"
   ]
  },
  {
   "cell_type": "code",
   "execution_count": 103,
   "id": "d81e2b0f",
   "metadata": {},
   "outputs": [],
   "source": [
    "df = pd.DataFrame(records, columns =['name', 'current_price', 'unit_price', 'description'])"
   ]
  },
  {
   "cell_type": "code",
   "execution_count": 104,
   "id": "0a833fbe",
   "metadata": {},
   "outputs": [
    {
     "data": {
      "text/html": [
       "<div>\n",
       "<style scoped>\n",
       "    .dataframe tbody tr th:only-of-type {\n",
       "        vertical-align: middle;\n",
       "    }\n",
       "\n",
       "    .dataframe tbody tr th {\n",
       "        vertical-align: top;\n",
       "    }\n",
       "\n",
       "    .dataframe thead th {\n",
       "        text-align: right;\n",
       "    }\n",
       "</style>\n",
       "<table border=\"1\" class=\"dataframe\">\n",
       "  <thead>\n",
       "    <tr style=\"text-align: right;\">\n",
       "      <th></th>\n",
       "      <th>name</th>\n",
       "      <th>current_price</th>\n",
       "      <th>unit_price</th>\n",
       "      <th>description</th>\n",
       "    </tr>\n",
       "  </thead>\n",
       "  <tbody>\n",
       "    <tr>\n",
       "      <th>0</th>\n",
       "      <td>Great Value Sliced Mushrooms</td>\n",
       "      <td>97¢</td>\n",
       "      <td>34¢/100ml</td>\n",
       "      <td>284 mL</td>\n",
       "    </tr>\n",
       "    <tr>\n",
       "      <th>1</th>\n",
       "      <td>Aylmer Tomatoes Diced, No Salt Added</td>\n",
       "      <td>3 for $6</td>\n",
       "      <td>31¢/100ml</td>\n",
       "      <td>796 ml</td>\n",
       "    </tr>\n",
       "    <tr>\n",
       "      <th>2</th>\n",
       "      <td>Great Value Whole Mushrooms</td>\n",
       "      <td>97¢</td>\n",
       "      <td>34¢/100ml</td>\n",
       "      <td>284 mL</td>\n",
       "    </tr>\n",
       "    <tr>\n",
       "      <th>3</th>\n",
       "      <td>Green Giant Canned Harvest Select No Added Sal...</td>\n",
       "      <td>4 for $6</td>\n",
       "      <td>58¢/100ml</td>\n",
       "      <td>Green Giant Canned Harvest Select</td>\n",
       "    </tr>\n",
       "    <tr>\n",
       "      <th>4</th>\n",
       "      <td>Heinz Original Beans in Tomato Sauce</td>\n",
       "      <td>3 for $4</td>\n",
       "      <td>39¢/100ml</td>\n",
       "      <td>398mL</td>\n",
       "    </tr>\n",
       "  </tbody>\n",
       "</table>\n",
       "</div>"
      ],
      "text/plain": [
       "                                                name current_price unit_price  \\\n",
       "0                       Great Value Sliced Mushrooms           97¢  34¢/100ml   \n",
       "1               Aylmer Tomatoes Diced, No Salt Added      3 for $6  31¢/100ml   \n",
       "2                        Great Value Whole Mushrooms           97¢  34¢/100ml   \n",
       "3  Green Giant Canned Harvest Select No Added Sal...      4 for $6  58¢/100ml   \n",
       "4               Heinz Original Beans in Tomato Sauce      3 for $4  39¢/100ml   \n",
       "\n",
       "                         description  \n",
       "0                             284 mL  \n",
       "1                             796 ml  \n",
       "2                             284 mL  \n",
       "3  Green Giant Canned Harvest Select  \n",
       "4                              398mL  "
      ]
     },
     "execution_count": 104,
     "metadata": {},
     "output_type": "execute_result"
    }
   ],
   "source": [
    "df.head()"
   ]
  },
  {
   "cell_type": "code",
   "execution_count": 105,
   "id": "07f0cf51",
   "metadata": {},
   "outputs": [],
   "source": [
    "df.to_csv('data.csv', index=False)"
   ]
  },
  {
   "cell_type": "markdown",
   "id": "51f79fca",
   "metadata": {},
   "source": [
    "# Get the Next Page"
   ]
  },
  {
   "cell_type": "code",
   "execution_count": 111,
   "id": "12ab03da",
   "metadata": {},
   "outputs": [],
   "source": [
    "def get_url(search_term):\n",
    "    \"\"\" Generate a url from search term\"\"\"\n",
    "    template = 'https://www.walmart.ca/search?q={}&c=10019'\n",
    "    search_term = search_term.replace(' ','+')\n",
    "\n",
    "    \n",
    "    url = template.format(search_term)\n",
    "    \n",
    "    #add page query place holder\n",
    "    url += '&page={}'\n",
    "    \n",
    "    return url\n"
   ]
  },
  {
   "cell_type": "markdown",
   "id": "27561fc7",
   "metadata": {},
   "source": [
    "# Putting Everything Together"
   ]
  },
  {
   "cell_type": "code",
   "execution_count": 120,
   "id": "3ff61633",
   "metadata": {},
   "outputs": [],
   "source": [
    "from bs4 import BeautifulSoup\n",
    "from selenium import webdriver\n",
    "import pandas as pd\n",
    "import csv\n",
    "\n",
    "#function to get URL\n",
    "def get_url(search_term):\n",
    "    \"\"\" Generate a url from search term\"\"\"\n",
    "    template = 'https://www.walmart.ca/search?q={}&c=10019'\n",
    "    search_term = search_term.replace(' ','+')\n",
    "\n",
    "    \n",
    "    url = template.format(search_term)\n",
    "    \n",
    "    #add page query place holder\n",
    "    url += '&page={}'\n",
    "    \n",
    "    return url\n",
    "\n",
    "#fucntion to extract records\n",
    "def extract_records(item):\n",
    "    #name\n",
    "    name = item.p.text\n",
    "    \n",
    "    #current price\n",
    "    try:\n",
    "        current_price = item.a.span.text\n",
    "    except AttributeError:\n",
    "        current_price =''\n",
    "    #unit_price\n",
    "    try:\n",
    "        unit_price = item.find('span', 'price-per-unit').text\n",
    "    except AttributeError:\n",
    "        return\n",
    "    #description\n",
    "    try:\n",
    "        description = item.find('p','css-1m0dajq eudvd6x0').text\n",
    "    except AttributeError:\n",
    "        description =''\n",
    "    result = (name, current_price, unit_price, description)\n",
    "    \n",
    "    return result\n",
    "\n",
    "#create a main function\n",
    "def main(search_term):\n",
    "    \"\"\"Runs main program routine\"\"\"\n",
    "    #startup webdriver\n",
    "    driver = webdriver.Chrome()\n",
    "    \n",
    "    records = []\n",
    "    url = get_url(search_term)\n",
    "    \n",
    "    for page in range(1,25):\n",
    "        driver.get(url.format(page))\n",
    "        soup = BeautifulSoup(driver.page_source, 'html.parser')\n",
    "        results = soup.find_all('div', {'data-automation' : 'grocery-product'})\n",
    "        \n",
    "        for item in results:\n",
    "            records.append(extract_records(item))\n",
    "    \n",
    "    driver.close()\n",
    "    \n",
    "    #save data to CSV\n",
    "    with open('results.csv', 'w',newline = '',encoding ='utf-8') as f:\n",
    "        writer = csv.writer(f)\n",
    "        writer.writerow(['name', 'current_price', 'unit_price', 'description'])\n",
    "        writer.writerows(records)"
   ]
  },
  {
   "cell_type": "code",
   "execution_count": 121,
   "id": "92341a81",
   "metadata": {},
   "outputs": [],
   "source": [
    "main('pantry food')"
   ]
  },
  {
   "cell_type": "code",
   "execution_count": 124,
   "id": "4510b8e3",
   "metadata": {},
   "outputs": [],
   "source": [
    "data1 = pd.read_csv('results.csv')"
   ]
  },
  {
   "cell_type": "code",
   "execution_count": 126,
   "id": "b96876d6",
   "metadata": {},
   "outputs": [
    {
     "data": {
      "text/html": [
       "<div>\n",
       "<style scoped>\n",
       "    .dataframe tbody tr th:only-of-type {\n",
       "        vertical-align: middle;\n",
       "    }\n",
       "\n",
       "    .dataframe tbody tr th {\n",
       "        vertical-align: top;\n",
       "    }\n",
       "\n",
       "    .dataframe thead th {\n",
       "        text-align: right;\n",
       "    }\n",
       "</style>\n",
       "<table border=\"1\" class=\"dataframe\">\n",
       "  <thead>\n",
       "    <tr style=\"text-align: right;\">\n",
       "      <th></th>\n",
       "      <th>name</th>\n",
       "      <th>current_price</th>\n",
       "      <th>unit_price</th>\n",
       "      <th>description</th>\n",
       "    </tr>\n",
       "  </thead>\n",
       "  <tbody>\n",
       "  </tbody>\n",
       "</table>\n",
       "</div>"
      ],
      "text/plain": [
       "Empty DataFrame\n",
       "Columns: [name, current_price, unit_price, description]\n",
       "Index: []"
      ]
     },
     "execution_count": 126,
     "metadata": {},
     "output_type": "execute_result"
    }
   ],
   "source": [
    "data1.head(5)"
   ]
  },
  {
   "cell_type": "code",
   "execution_count": null,
   "id": "bf83c610",
   "metadata": {},
   "outputs": [],
   "source": []
  }
 ],
 "metadata": {
  "kernelspec": {
   "display_name": "Python 3 (ipykernel)",
   "language": "python",
   "name": "python3"
  },
  "language_info": {
   "codemirror_mode": {
    "name": "ipython",
    "version": 3
   },
   "file_extension": ".py",
   "mimetype": "text/x-python",
   "name": "python",
   "nbconvert_exporter": "python",
   "pygments_lexer": "ipython3",
   "version": "3.10.8"
  }
 },
 "nbformat": 4,
 "nbformat_minor": 5
}
